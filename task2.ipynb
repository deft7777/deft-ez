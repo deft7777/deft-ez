{
 "cells": [
  {
   "cell_type": "code",
   "execution_count": null,
   "metadata": {},
   "outputs": [],
   "source": [
    "#简述python中的几种数据类型\n",
    "\n",
    "'''\n",
    "字符串类型  str 'python'\n",
    "整数类型   int 98\n",
    "浮点数类型 float 3.14\n",
    "布尔类型   bool True,False\n",
    "'''"
   ]
  },
  {
   "cell_type": "code",
   "execution_count": null,
   "metadata": {},
   "outputs": [],
   "source": [
    "#数据类型的可变与不可变分别有哪些\n",
    "'''\n",
    "不可变序列：字符串、元祖\n",
    "可变序列：列表、字典\n",
    "'''"
   ]
  },
  {
   "cell_type": "code",
   "execution_count": null,
   "metadata": {},
   "outputs": [],
   "source": [
    "#元祖、列表、字典有没有长度限制\n",
    "'''没有限制'''"
   ]
  },
  {
   "cell_type": "code",
   "execution_count": null,
   "metadata": {},
   "outputs": [],
   "source": [
    "#集合有哪些特性\n",
    "\n",
    "'''\n",
    "可变\n",
    "没有重复元素\n",
    "'''"
   ]
  },
  {
   "cell_type": "code",
   "execution_count": 1,
   "metadata": {},
   "outputs": [
    {
     "name": "stdout",
     "output_type": "stream",
     "text": [
      "15\n"
     ]
    }
   ],
   "source": [
    "#分别解释\"=\",\"==\",\"+=\"\n",
    "\n",
    "'''\n",
    "=:赋值\n",
    "==：检测是否等于\n",
    "+=：加上一个数并赋值给它'''\n",
    "\n",
    "a=10\n",
    "a+=5\n",
    "print(a)"
   ]
  },
  {
   "cell_type": "code",
   "execution_count": null,
   "metadata": {},
   "outputs": [],
   "source": [
    "#解释'and','or','not'\n",
    "\n",
    "'''\n",
    "and:逻辑且\n",
    "or:逻辑或\n",
    "not:逻辑非\n",
    "'''"
   ]
  },
  {
   "cell_type": "code",
   "execution_count": null,
   "metadata": {},
   "outputs": [],
   "source": [
    "#深浅 copy-引用和 copy(),deepcopy()的区别\n",
    "'''\n",
    "浅拷贝copy()只拷贝父对象，不会拷贝父对象中的字对象\n",
    "深拷贝deepcopy()全部拷贝，怎么样都不会变\n",
    "'''"
   ]
  },
  {
   "cell_type": "code",
   "execution_count": 4,
   "metadata": {},
   "outputs": [
    {
     "name": "stdout",
     "output_type": "stream",
     "text": [
      "7\n",
      "14\n",
      "21\n",
      "28\n",
      "42\n",
      "49\n",
      "56\n",
      "63\n",
      "77\n",
      "84\n",
      "91\n",
      "98\n"
     ]
    }
   ],
   "source": [
    "#求 1-100 之间能被 7 整除，但不能同时被 5 整除的所有整数。\n",
    "\n",
    "for i in range(1,101):\n",
    "    if i%7==0 and i%5!=0:\n",
    "     print(i)"
   ]
  },
  {
   "cell_type": "code",
   "execution_count": 5,
   "metadata": {},
   "outputs": [
    {
     "name": "stdout",
     "output_type": "stream",
     "text": [
      "153\n",
      "370\n",
      "371\n",
      "407\n"
     ]
    }
   ],
   "source": [
    "#输出 1000 以内所有的\"水仙花数\"，所谓\"水仙花数\"是指一个三位数，其各 位数字 立方和等于该数本身。\n",
    "\n",
    "for i in range(100,1000):\n",
    "    a=i//100\n",
    "    b=i//10%10\n",
    "    c=i%10\n",
    "    if i==a*a*a+b*b*b+c*c*c:\n",
    "        print(i)"
   ]
  },
  {
   "cell_type": "code",
   "execution_count": 11,
   "metadata": {},
   "outputs": [
    {
     "name": "stdout",
     "output_type": "stream",
     "text": [
      "101\n",
      "103\n",
      "107\n",
      "109\n",
      "113\n",
      "127\n",
      "131\n",
      "137\n",
      "139\n",
      "149\n",
      "151\n",
      "157\n",
      "163\n",
      "167\n",
      "173\n",
      "179\n",
      "181\n",
      "191\n",
      "193\n",
      "197\n",
      "199\n",
      "素数的数量为21\n"
     ]
    }
   ],
   "source": [
    "#判断 101-200 之间有多少个素数，并输出所有素数\n",
    "\n",
    "from math import sqrt\n",
    "count=0\n",
    "for i in range(101,201):\n",
    "    m=int(sqrt(i))\n",
    "    for j in range(2,m+1):\n",
    "        if i%j==0:\n",
    "            break\n",
    "    else:\n",
    "        print(i)\n",
    "        count+=1\n",
    "print('素数的数量为%d'%count)\n"
   ]
  },
  {
   "cell_type": "code",
   "execution_count": 12,
   "metadata": {},
   "outputs": [
    {
     "name": "stdout",
     "output_type": "stream",
     "text": [
      "<class 'int'> <class 'int'>\n",
      "7\n"
     ]
    }
   ],
   "source": [
    "#设 m=1*2*·*n,求 m 为不大于 20000 时最大的 n\n",
    "m=1\n",
    "n=1\n",
    "print(type(m),type(n))\n",
    "while m<=20000:\n",
    "    n+=1\n",
    "    m=m*n\n",
    "print(n-1)"
   ]
  },
  {
   "cell_type": "code",
   "execution_count": 3,
   "metadata": {},
   "outputs": [
    {
     "name": "stdout",
     "output_type": "stream",
     "text": [
      "0\n",
      "bigger\n",
      "预测2次猜中\n"
     ]
    }
   ],
   "source": [
    "#利用 if 语句写出猜大小的游戏预设一个 0-9 的随机整数，让用户输入所猜的数。 如果大于预设的数，提示“bigger”;如果小于预设的数，显示“smaller”。如此循环， 直至猜中该数，显示“right!”，并统计第几次猜中\n",
    "from random import randint\n",
    "num=randint(0,9) #预设一个0-9的随机整数\n",
    "tim=0\n",
    "print(num)\n",
    "while 1:\n",
    "    try:\n",
    "        shuru=eval(input('请输入您猜的数字'))\n",
    "        tim+=1\n",
    "        if shuru>num:\n",
    "            print('bigger')\n",
    "        elif shuru<num:\n",
    "            print('smaller')\n",
    "        elif shuru==num:\n",
    "            print('预测{}次猜中'.format(tim))\n",
    "            break\n",
    "    except:\n",
    "        print('输入有误')"
   ]
  },
  {
   "cell_type": "code",
   "execution_count": 6,
   "metadata": {},
   "outputs": [
    {
     "name": "stdout",
     "output_type": "stream",
     "text": [
      "level\n",
      "yes\n"
     ]
    }
   ],
   "source": [
    "#读入一串字符，判断是否是回文串。“回文串”是一个正读和反读都一样的 字符串， 比如“level”或者“noon”等等就是回文串。 输入 一行字符串，⻓度不超过 255。 输 出 如果是回文串，输出“YES”，否则输出“NO”\n",
    "s=input()\n",
    "s1=list(s)\n",
    "s2=s1[::-1]\n",
    "\n",
    "value=0\n",
    "for i in range(0,int(len(s1)/2)):\n",
    "    if s1[i]==s2[i]:\n",
    "        value=value+1\n",
    "    else:\n",
    "        break\n",
    "\n",
    "if value==int(len(s1)/2):\n",
    "    print(s)\n",
    "    print('yes')\n",
    "else:\n",
    "    print(s)\n",
    "    print('No')\n",
    "\n"
   ]
  },
  {
   "cell_type": "code",
   "execution_count": 12,
   "metadata": {},
   "outputs": [
    {
     "name": "stdout",
     "output_type": "stream",
     "text": [
      "总高度:tour=299.609375\n",
      "第十次反弹高度:height=0.09765625\n"
     ]
    }
   ],
   "source": [
    "#弹球\n",
    "tour=[]\n",
    "height=[]\n",
    "\n",
    "hei=100.0\n",
    "time=10\n",
    "\n",
    "for i in range(1,time+1):\n",
    "    if i==1:\n",
    "        tour.append(hei)\n",
    "    else:\n",
    "        tour.append(2*hei)\n",
    "    hei /=2\n",
    "    height.append(hei)\n",
    "print('总高度:tour={}'.format(sum(tour)))\n",
    "print('第十次反弹高度:height={}'.format(height[-1]))"
   ]
  },
  {
   "cell_type": "code",
   "execution_count": 14,
   "metadata": {},
   "outputs": [
    {
     "name": "stdout",
     "output_type": "stream",
     "text": [
      "*\n",
      "**\n",
      "***\n",
      "****\n",
      "*****\n",
      "****\n",
      "***\n",
      "**\n",
      "*\n"
     ]
    }
   ],
   "source": [
    "#打印三角形\n",
    "num=9\n",
    "i=1\n",
    "while i<=9:\n",
    "    if i<=9-i:\n",
    "        k=i\n",
    "        while k>0:\n",
    "            print('*',end='')\n",
    "            k-=1\n",
    "        print()\n",
    "    else:\n",
    "        k=9-i+1\n",
    "        while k>0:\n",
    "            print('*',end='')\n",
    "            k-=1\n",
    "        print()\n",
    "    i+=1"
   ]
  },
  {
   "cell_type": "code",
   "execution_count": 35,
   "metadata": {},
   "outputs": [
    {
     "name": "stdout",
     "output_type": "stream",
     "text": [
      "<class 'datetime.timedelta'>\n",
      "2022-03-30是2022年的第89天\n"
     ]
    }
   ],
   "source": [
    "#年月日\n",
    "import datetime\n",
    "y=int(input('请输入4位数字的年份:'))\n",
    "m=int(input('请输入月份:'))\n",
    "d=int(input('请输入是哪一天:'))\n",
    "targetd2022ay=datetime.date (y,m,d)\n",
    "daycnt=targetday-datetime.date(targetday.year-1,12,31)\n",
    "print(type(daycnt))\n",
    "print('{}是{}年的第{}天'.format(targetday,y,daycnt.days))\n"
   ]
  },
  {
   "cell_type": "code",
   "execution_count": 21,
   "metadata": {},
   "outputs": [
    {
     "name": "stdout",
     "output_type": "stream",
     "text": [
      "6\n",
      "[1, 2, 3, 4, 5, 6, 7]\n",
      "[1, 3, 4, 5, 6, 7]\n",
      "[10, 3, 4, 5, 6, 7]\n",
      "[10]\n"
     ]
    }
   ],
   "source": [
    "#列表\n",
    "namelist=[1,2,3,4,5,6]\n",
    "a=len(namelist)\n",
    "print(a)\n",
    "\n",
    "namelist.append(7)\n",
    "print(namelist)\n",
    "\n",
    "namelist.pop(1)\n",
    "print(namelist)\n",
    "\n",
    "namelist[0]=10\n",
    "print(namelist)\n",
    "\n",
    "a=namelist[:1:]\n",
    "print(a)"
   ]
  },
  {
   "cell_type": "code",
   "execution_count": 34,
   "metadata": {},
   "outputs": [
    {
     "name": "stdout",
     "output_type": "stream",
     "text": [
      "飘 次数\n",
      "2\n",
      "\n",
      "飘 次数\n",
      "2\n",
      "\n",
      "乎 次数\n",
      "1\n",
      "\n",
      "如 次数\n",
      "1\n",
      "\n",
      "遗 次数\n",
      "1\n",
      "\n",
      "世 次数\n",
      "1\n",
      "\n",
      "独 次数\n",
      "1\n",
      "\n",
      "立 次数\n",
      "1\n",
      "\n",
      "， 次数\n",
      "1\n",
      "\n",
      "羽 次数\n",
      "1\n",
      "\n",
      "化 次数\n",
      "1\n",
      "\n",
      "而 次数\n",
      "1\n",
      "\n",
      "登 次数\n",
      "1\n",
      "\n",
      "仙 次数\n",
      "1\n",
      "\n",
      "。 次数\n",
      "1\n",
      "\n"
     ]
    },
    {
     "ename": "IndexError",
     "evalue": "string index out of range",
     "output_type": "error",
     "traceback": [
      "\u001b[0;31m---------------------------------------------------------------------------\u001b[0m",
      "\u001b[0;31mIndexError\u001b[0m                                Traceback (most recent call last)",
      "\u001b[0;32m/var/folders/96/03y6f4j16wl5gnk_w2bz50dc0000gn/T/ipykernel_43942/3135322330.py\u001b[0m in \u001b[0;36m<module>\u001b[0;34m\u001b[0m\n\u001b[1;32m      2\u001b[0m \u001b[0mstr\u001b[0m\u001b[0;34m=\u001b[0m\u001b[0;34m'飘飘乎如遗世独立，羽化而登仙。'\u001b[0m\u001b[0;34m\u001b[0m\u001b[0;34m\u001b[0m\u001b[0m\n\u001b[1;32m      3\u001b[0m \u001b[0;32mfor\u001b[0m \u001b[0mi\u001b[0m \u001b[0;32min\u001b[0m \u001b[0mrange\u001b[0m\u001b[0;34m(\u001b[0m\u001b[0;36m0\u001b[0m\u001b[0;34m,\u001b[0m\u001b[0;36m60\u001b[0m\u001b[0;34m)\u001b[0m\u001b[0;34m:\u001b[0m\u001b[0;34m\u001b[0m\u001b[0;34m\u001b[0m\u001b[0m\n\u001b[0;32m----> 4\u001b[0;31m     \u001b[0mprint\u001b[0m\u001b[0;34m(\u001b[0m\u001b[0mstr\u001b[0m\u001b[0;34m[\u001b[0m\u001b[0mi\u001b[0m\u001b[0;34m]\u001b[0m\u001b[0;34m,\u001b[0m\u001b[0;34m'次数'\u001b[0m\u001b[0;34m)\u001b[0m\u001b[0;34m\u001b[0m\u001b[0;34m\u001b[0m\u001b[0m\n\u001b[0m\u001b[1;32m      5\u001b[0m     \u001b[0mprint\u001b[0m\u001b[0;34m(\u001b[0m\u001b[0mstr\u001b[0m\u001b[0;34m.\u001b[0m\u001b[0mcount\u001b[0m\u001b[0;34m(\u001b[0m\u001b[0mstr\u001b[0m\u001b[0;34m[\u001b[0m\u001b[0mi\u001b[0m\u001b[0;34m]\u001b[0m\u001b[0;34m,\u001b[0m\u001b[0;36m0\u001b[0m\u001b[0;34m,\u001b[0m\u001b[0;36m60\u001b[0m\u001b[0;34m)\u001b[0m\u001b[0;34m)\u001b[0m\u001b[0;34m\u001b[0m\u001b[0;34m\u001b[0m\u001b[0m\n\u001b[1;32m      6\u001b[0m     \u001b[0mprint\u001b[0m\u001b[0;34m(\u001b[0m\u001b[0;34m)\u001b[0m\u001b[0;34m\u001b[0m\u001b[0;34m\u001b[0m\u001b[0m\n",
      "\u001b[0;31mIndexError\u001b[0m: string index out of range"
     ]
    }
   ],
   "source": [
    "#使用计数器方式(统计一下’飘飘乎如遗世独立，羽化而登仙。’这一句话中的每个字 符出现的个数)，以及出现最多的 2 个数。\n",
    "str='飘飘乎如遗世独立，羽化而登仙。'\n",
    "for i in range(0,60):\n",
    "    print(str[i],'次数')\n",
    "    print(str.count(str[i],0,60))\n",
    "    print()\n"
   ]
  }
 ],
 "metadata": {
  "kernelspec": {
   "display_name": "Python 3.7.13 ('dd')",
   "language": "python",
   "name": "python3"
  },
  "language_info": {
   "codemirror_mode": {
    "name": "ipython",
    "version": 3
   },
   "file_extension": ".py",
   "mimetype": "text/x-python",
   "name": "python",
   "nbconvert_exporter": "python",
   "pygments_lexer": "ipython3",
   "version": "3.7.13"
  },
  "orig_nbformat": 4,
  "vscode": {
   "interpreter": {
    "hash": "df2a659cdebd8e2fbf0dc789de0db9068b83c3a4a2fc16562036b1b8779d5b95"
   }
  }
 },
 "nbformat": 4,
 "nbformat_minor": 2
}
